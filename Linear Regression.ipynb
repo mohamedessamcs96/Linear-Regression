{
 "cells": [
  {
   "cell_type": "code",
   "execution_count": 86,
   "id": "6d38e771",
   "metadata": {},
   "outputs": [],
   "source": [
    "import pandas as pd\n",
    "import numpy as np\n",
    "import seaborn as sns\n",
    "from sklearn.model_selection import train_test_split\n",
    "from sklearn import linear_model\n",
    "from sklearn import metrics\n",
    "import matplotlib.pyplot as plt"
   ]
  },
  {
   "cell_type": "code",
   "execution_count": 87,
   "id": "b41a2db2",
   "metadata": {},
   "outputs": [],
   "source": [
    "df=pd.DataFrame([\n",
    "    {\"Hours\":10,\"GPA\":3.1},{\"Hours\":8,\"GPA\":2.1},{\"Hours\":5,\"GPA\":1.1},{\"Hours\":6,\"GPA\":1.4},{\"Hours\":1,\"GPA\":0.4},\n",
    "     {\"Hours\":10,\"GPA\":3.1},{\"Hours\":8,\"GPA\":2.1},{\"Hours\":5,\"GPA\":1.1},{\"Hours\":6,\"GPA\":1.4},{\"Hours\":1,\"GPA\":0.4},\n",
    "     {\"Hours\":10,\"GPA\":3.1},{\"Hours\":8,\"GPA\":2.1},{\"Hours\":5,\"GPA\":1.1},{\"Hours\":6,\"GPA\":1.4},{\"Hours\":1,\"GPA\":0.4},\n",
    "     {\"Hours\":10,\"GPA\":3.1},{\"Hours\":8,\"GPA\":2.1},{\"Hours\":5,\"GPA\":1.1},{\"Hours\":6,\"GPA\":1.4},{\"Hours\":1,\"GPA\":0.4}\n",
    "])"
   ]
  },
  {
   "cell_type": "code",
   "execution_count": 88,
   "id": "5bd4258c",
   "metadata": {},
   "outputs": [
    {
     "data": {
      "text/html": [
       "<div>\n",
       "<style scoped>\n",
       "    .dataframe tbody tr th:only-of-type {\n",
       "        vertical-align: middle;\n",
       "    }\n",
       "\n",
       "    .dataframe tbody tr th {\n",
       "        vertical-align: top;\n",
       "    }\n",
       "\n",
       "    .dataframe thead th {\n",
       "        text-align: right;\n",
       "    }\n",
       "</style>\n",
       "<table border=\"1\" class=\"dataframe\">\n",
       "  <thead>\n",
       "    <tr style=\"text-align: right;\">\n",
       "      <th></th>\n",
       "      <th>Hours</th>\n",
       "      <th>GPA</th>\n",
       "    </tr>\n",
       "  </thead>\n",
       "  <tbody>\n",
       "    <tr>\n",
       "      <th>0</th>\n",
       "      <td>10</td>\n",
       "      <td>3.1</td>\n",
       "    </tr>\n",
       "    <tr>\n",
       "      <th>1</th>\n",
       "      <td>8</td>\n",
       "      <td>2.1</td>\n",
       "    </tr>\n",
       "    <tr>\n",
       "      <th>2</th>\n",
       "      <td>5</td>\n",
       "      <td>1.1</td>\n",
       "    </tr>\n",
       "    <tr>\n",
       "      <th>3</th>\n",
       "      <td>6</td>\n",
       "      <td>1.4</td>\n",
       "    </tr>\n",
       "    <tr>\n",
       "      <th>4</th>\n",
       "      <td>1</td>\n",
       "      <td>0.4</td>\n",
       "    </tr>\n",
       "  </tbody>\n",
       "</table>\n",
       "</div>"
      ],
      "text/plain": [
       "   Hours  GPA\n",
       "0     10  3.1\n",
       "1      8  2.1\n",
       "2      5  1.1\n",
       "3      6  1.4\n",
       "4      1  0.4"
      ]
     },
     "execution_count": 88,
     "metadata": {},
     "output_type": "execute_result"
    }
   ],
   "source": [
    "df.head()"
   ]
  },
  {
   "cell_type": "code",
   "execution_count": 89,
   "id": "e14e6cef",
   "metadata": {},
   "outputs": [],
   "source": [
    "df.to_csv('Hoursvsgpa.csv')"
   ]
  },
  {
   "cell_type": "code",
   "execution_count": 90,
   "id": "8eed616c",
   "metadata": {},
   "outputs": [],
   "source": [
    "df=pd.read_csv('Hoursvsgpa.csv')"
   ]
  },
  {
   "cell_type": "code",
   "execution_count": 91,
   "id": "c4b4be5e",
   "metadata": {},
   "outputs": [
    {
     "data": {
      "text/plain": [
       "(20, 3)"
      ]
     },
     "execution_count": 91,
     "metadata": {},
     "output_type": "execute_result"
    }
   ],
   "source": [
    "df.shape"
   ]
  },
  {
   "cell_type": "code",
   "execution_count": 92,
   "id": "75905b95",
   "metadata": {},
   "outputs": [
    {
     "data": {
      "text/html": [
       "<div>\n",
       "<style scoped>\n",
       "    .dataframe tbody tr th:only-of-type {\n",
       "        vertical-align: middle;\n",
       "    }\n",
       "\n",
       "    .dataframe tbody tr th {\n",
       "        vertical-align: top;\n",
       "    }\n",
       "\n",
       "    .dataframe thead th {\n",
       "        text-align: right;\n",
       "    }\n",
       "</style>\n",
       "<table border=\"1\" class=\"dataframe\">\n",
       "  <thead>\n",
       "    <tr style=\"text-align: right;\">\n",
       "      <th></th>\n",
       "      <th>Unnamed: 0</th>\n",
       "      <th>Hours</th>\n",
       "      <th>GPA</th>\n",
       "    </tr>\n",
       "  </thead>\n",
       "  <tbody>\n",
       "    <tr>\n",
       "      <th>Unnamed: 0</th>\n",
       "      <td>1.000000</td>\n",
       "      <td>-0.228702</td>\n",
       "      <td>-0.230081</td>\n",
       "    </tr>\n",
       "    <tr>\n",
       "      <th>Hours</th>\n",
       "      <td>-0.228702</td>\n",
       "      <td>1.000000</td>\n",
       "      <td>0.968027</td>\n",
       "    </tr>\n",
       "    <tr>\n",
       "      <th>GPA</th>\n",
       "      <td>-0.230081</td>\n",
       "      <td>0.968027</td>\n",
       "      <td>1.000000</td>\n",
       "    </tr>\n",
       "  </tbody>\n",
       "</table>\n",
       "</div>"
      ],
      "text/plain": [
       "            Unnamed: 0     Hours       GPA\n",
       "Unnamed: 0    1.000000 -0.228702 -0.230081\n",
       "Hours        -0.228702  1.000000  0.968027\n",
       "GPA          -0.230081  0.968027  1.000000"
      ]
     },
     "execution_count": 92,
     "metadata": {},
     "output_type": "execute_result"
    }
   ],
   "source": [
    "df.corr()"
   ]
  },
  {
   "cell_type": "code",
   "execution_count": 93,
   "id": "348be736",
   "metadata": {},
   "outputs": [
    {
     "data": {
      "text/html": [
       "<div>\n",
       "<style scoped>\n",
       "    .dataframe tbody tr th:only-of-type {\n",
       "        vertical-align: middle;\n",
       "    }\n",
       "\n",
       "    .dataframe tbody tr th {\n",
       "        vertical-align: top;\n",
       "    }\n",
       "\n",
       "    .dataframe thead th {\n",
       "        text-align: right;\n",
       "    }\n",
       "</style>\n",
       "<table border=\"1\" class=\"dataframe\">\n",
       "  <thead>\n",
       "    <tr style=\"text-align: right;\">\n",
       "      <th></th>\n",
       "      <th>Unnamed: 0</th>\n",
       "      <th>Hours</th>\n",
       "      <th>GPA</th>\n",
       "    </tr>\n",
       "  </thead>\n",
       "  <tbody>\n",
       "    <tr>\n",
       "      <th>count</th>\n",
       "      <td>20.00000</td>\n",
       "      <td>20.000000</td>\n",
       "      <td>20.000000</td>\n",
       "    </tr>\n",
       "    <tr>\n",
       "      <th>mean</th>\n",
       "      <td>9.50000</td>\n",
       "      <td>6.000000</td>\n",
       "      <td>1.620000</td>\n",
       "    </tr>\n",
       "    <tr>\n",
       "      <th>std</th>\n",
       "      <td>5.91608</td>\n",
       "      <td>3.111946</td>\n",
       "      <td>0.943454</td>\n",
       "    </tr>\n",
       "    <tr>\n",
       "      <th>min</th>\n",
       "      <td>0.00000</td>\n",
       "      <td>1.000000</td>\n",
       "      <td>0.400000</td>\n",
       "    </tr>\n",
       "    <tr>\n",
       "      <th>25%</th>\n",
       "      <td>4.75000</td>\n",
       "      <td>5.000000</td>\n",
       "      <td>1.100000</td>\n",
       "    </tr>\n",
       "    <tr>\n",
       "      <th>50%</th>\n",
       "      <td>9.50000</td>\n",
       "      <td>6.000000</td>\n",
       "      <td>1.400000</td>\n",
       "    </tr>\n",
       "    <tr>\n",
       "      <th>75%</th>\n",
       "      <td>14.25000</td>\n",
       "      <td>8.000000</td>\n",
       "      <td>2.100000</td>\n",
       "    </tr>\n",
       "    <tr>\n",
       "      <th>max</th>\n",
       "      <td>19.00000</td>\n",
       "      <td>10.000000</td>\n",
       "      <td>3.100000</td>\n",
       "    </tr>\n",
       "  </tbody>\n",
       "</table>\n",
       "</div>"
      ],
      "text/plain": [
       "       Unnamed: 0      Hours        GPA\n",
       "count    20.00000  20.000000  20.000000\n",
       "mean      9.50000   6.000000   1.620000\n",
       "std       5.91608   3.111946   0.943454\n",
       "min       0.00000   1.000000   0.400000\n",
       "25%       4.75000   5.000000   1.100000\n",
       "50%       9.50000   6.000000   1.400000\n",
       "75%      14.25000   8.000000   2.100000\n",
       "max      19.00000  10.000000   3.100000"
      ]
     },
     "execution_count": 93,
     "metadata": {},
     "output_type": "execute_result"
    }
   ],
   "source": [
    "df.describe()"
   ]
  },
  {
   "cell_type": "code",
   "execution_count": 94,
   "id": "e0178f45",
   "metadata": {},
   "outputs": [
    {
     "name": "stdout",
     "output_type": "stream",
     "text": [
      "<class 'pandas.core.frame.DataFrame'>\n",
      "RangeIndex: 20 entries, 0 to 19\n",
      "Data columns (total 3 columns):\n",
      " #   Column      Non-Null Count  Dtype  \n",
      "---  ------      --------------  -----  \n",
      " 0   Unnamed: 0  20 non-null     int64  \n",
      " 1   Hours       20 non-null     int64  \n",
      " 2   GPA         20 non-null     float64\n",
      "dtypes: float64(1), int64(2)\n",
      "memory usage: 608.0 bytes\n"
     ]
    }
   ],
   "source": [
    "df.info()"
   ]
  },
  {
   "cell_type": "code",
   "execution_count": 95,
   "id": "ba6eea8c",
   "metadata": {},
   "outputs": [
    {
     "data": {
      "text/plain": [
       "<seaborn.axisgrid.JointGrid at 0x7ff7f3974c70>"
      ]
     },
     "execution_count": 95,
     "metadata": {},
     "output_type": "execute_result"
    },
    {
     "data": {
      "image/png": "[encoded data removed]",
      "text/plain": [
       "<Figure size 432x432 with 3 Axes>"
      ]
     },
     "metadata": {
      "needs_background": "light"
     },
     "output_type": "display_data"
    }
   ],
   "source": [
    "sns.jointplot(x=df['Hours'], y=df['GPA'], data=df, kind='reg')"
   ]
  },
  {
   "cell_type": "code",
   "execution_count": 96,
   "id": "4df43e90",
   "metadata": {},
   "outputs": [],
   "source": [
    "# Separate the input features (predictors) and the target variable\n",
    "x = df['Hours']\n",
    "y = df['GPA']"
   ]
  },
  {
   "cell_type": "code",
   "execution_count": 97,
   "id": "fb1d255f",
   "metadata": {},
   "outputs": [
    {
     "name": "stdout",
     "output_type": "stream",
     "text": [
      "Train - Predictors shape (16, 1)\n",
      "Test - Predictors shape (4, 1)\n",
      "Train - Target shape (16, 1)\n",
      "Test - Target shape (4, 1)\n"
     ]
    }
   ],
   "source": [
    "x_train, x_test, y_train, y_test = train_test_split(x, y, test_size=0.2, random_state=42)\n",
    "\n",
    "# Convert the input features and target variables to numpy arrays and reshape them\n",
    "x_train = np.array(x_train).reshape(-1, 1)\n",
    "x_test = np.array(x_test).reshape(-1, 1)\n",
    "y_train = np.array(y_train).reshape(-1, 1)\n",
    "y_test = np.array(y_test).reshape(-1, 1)\n",
    "\n",
    "\n",
    "print('Train - Predictors shape', x_train.shape)\n",
    "print('Test - Predictors shape', x_test.shape)\n",
    "print('Train - Target shape', y_train.shape)\n",
    "print('Test - Target shape', y_test.shape)"
   ]
  },
  {
   "cell_type": "code",
   "execution_count": 98,
   "id": "b2ff4eff",
   "metadata": {},
   "outputs": [
    {
     "data": {
      "text/plain": [
       "LinearRegression()"
      ]
     },
     "execution_count": 98,
     "metadata": {},
     "output_type": "execute_result"
    }
   ],
   "source": [
    "cls = linear_model.LinearRegression()\n",
    "#Fit method is used for fitting your training data into the model\n",
    "cls.fit(x_train,y_train)"
   ]
  },
  {
   "cell_type": "code",
   "execution_count": 99,
   "id": "ddd92ca6",
   "metadata": {},
   "outputs": [],
   "source": [
    "prediction = cls.predict(x_test)"
   ]
  },
  {
   "cell_type": "code",
   "execution_count": 100,
   "id": "69b3ef8d",
   "metadata": {},
   "outputs": [
    {
     "name": "stdout",
     "output_type": "stream",
     "text": [
      "Co-efficient of linear regression [[0.27503303]]\n"
     ]
    }
   ],
   "source": [
    "print('Co-efficient of linear regression',cls.coef_)"
   ]
  },
  {
   "cell_type": "code",
   "execution_count": 101,
   "id": "31075d02",
   "metadata": {},
   "outputs": [
    {
     "name": "stdout",
     "output_type": "stream",
     "text": [
      "Intercept of linear regression model [-0.05799207]\n"
     ]
    }
   ],
   "source": [
    "print('Intercept of linear regression model',cls.intercept_)"
   ]
  },
  {
   "cell_type": "code",
   "execution_count": 102,
   "id": "58987a47",
   "metadata": {},
   "outputs": [
    {
     "name": "stdout",
     "output_type": "stream",
     "text": [
      "Mean Square Error 0.0953318477128482\n"
     ]
    }
   ],
   "source": [
    "print('Mean Square Error', metrics.mean_squared_error(y_test, prediction))"
   ]
  },
  {
   "cell_type": "code",
   "execution_count": 103,
   "id": "60bc4535",
   "metadata": {},
   "outputs": [
    {
     "data": {
      "text/plain": [
       "Text(0.5, 1.0, 'Linear Regression')"
      ]
     },
     "execution_count": 103,
     "metadata": {},
     "output_type": "execute_result"
    },
    {
     "data": {
      "image/png": "[encoded data removed]",
      "text/plain": [
       "<Figure size 432x288 with 1 Axes>"
      ]
     },
     "metadata": {
      "needs_background": "light"
     },
     "output_type": "display_data"
    }
   ],
   "source": [
    "#Model Regression line on test set\n",
    "plt.scatter(x_test, y_test)\n",
    "plt.plot(x_test, prediction, color='red', linewidth=3)\n",
    "plt.xlabel('Hours')\n",
    "plt.ylabel('Marks')\n",
    "plt.title('Linear Regression')"
   ]
  },
  {
   "cell_type": "code",
   "execution_count": 104,
   "id": "deee5967",
   "metadata": {},
   "outputs": [],
   "source": [
    "def simple_linear_regression(X, y):\n",
    "    # Calculate the mean of the input feature and target variables\n",
    "    mean_X = np.mean(X)\n",
    "    mean_y = np.mean(y)\n",
    "\n",
    "    # Calculate the slope (theta_1) and the intercept (theta_0) of the regression line\n",
    "    numerator = np.sum((X - mean_X) * (y - mean_y))\n",
    "    denominator = np.sum((X - mean_X) ** 2)\n",
    "    theta_1 = numerator / denominator\n",
    "    theta_0 = mean_y - theta_1 * mean_X\n",
    "\n",
    "    return theta_0, theta_1"
   ]
  },
  {
   "cell_type": "code",
   "execution_count": 105,
   "id": "6eda681c",
   "metadata": {},
   "outputs": [],
   "source": [
    "def predict(X, theta_0, theta_1):\n",
    "    # Make predictions using the learned parameters\n",
    "    return theta_0 + theta_1 * X"
   ]
  },
  {
   "cell_type": "code",
   "execution_count": 106,
   "id": "7b7190ca",
   "metadata": {},
   "outputs": [],
   "source": [
    "def mse_calc(prediction, y_test):\n",
    "    #\n",
    "    total_data = len(prediction)\n",
    "    error = 0\n",
    "    error = (np.sum((prediction - y_test)**2))/total_data\n",
    "    return error"
   ]
  },
  {
   "cell_type": "code",
   "execution_count": 107,
   "id": "1a1a0798",
   "metadata": {},
   "outputs": [],
   "source": [
    "def rsq(prediction, y_test):\n",
    "    #\n",
    "    total_data = len(prediction)\n",
    "    #Average of total prediction \n",
    "    y_avg = np.sum(y_test)/total_data\n",
    "    #total sum of square error\n",
    "    tot_err = np.sum((y_test-y_avg)**2)\n",
    "    #total sum of squared error of residuals\n",
    "    res_err = np.sum((y_test-prediction)**2)\n",
    "    #\n",
    "    r2 = 1 - (res_err / tot_err)\n",
    "    return r2"
   ]
  },
  {
   "cell_type": "code",
   "execution_count": 108,
   "id": "d9a23078",
   "metadata": {},
   "outputs": [
    {
     "name": "stderr",
     "output_type": "stream",
     "text": [
      "/var/folders/sj/kjrbr97x2w37jfp85085rwxc0000gn/T/ipykernel_1368/2222527584.py:52: UserWarning: Matplotlib is currently using module://matplotlib_inline.backend_inline, which is a non-GUI backend, so cannot show the figure.\n",
      "  f.show()\n"
     ]
    },
    {
     "name": "stdout",
     "output_type": "stream",
     "text": [
      "100 epochs elapsed\n",
      "Current accuracy is : 0.9836456109008862\n",
      "Do you want to stop (y/*)??y\n"
     ]
    },
    {
     "name": "stderr",
     "output_type": "stream",
     "text": [
      "/var/folders/sj/kjrbr97x2w37jfp85085rwxc0000gn/T/ipykernel_1368/2222527584.py:52: UserWarning: Matplotlib is currently using module://matplotlib_inline.backend_inline, which is a non-GUI backend, so cannot show the figure.\n",
      "  f.show()\n",
      "/var/folders/sj/kjrbr97x2w37jfp85085rwxc0000gn/T/ipykernel_1368/2222527584.py:92: UserWarning: Matplotlib is currently using module://matplotlib_inline.backend_inline, which is a non-GUI backend, so cannot show the figure.\n",
      "  h.show()\n"
     ]
    },
    {
     "data": {
      "image/png": "[encoded data removed]",
      "text/plain": [
       "<Figure size 432x288 with 1 Axes>"
      ]
     },
     "metadata": {
      "needs_background": "light"
     },
     "output_type": "display_data"
    },
    {
     "data": {
      "image/png": "[encoded data removed]",
      "text/plain": [
       "<Figure size 432x288 with 1 Axes>"
      ]
     },
     "metadata": {
      "needs_background": "light"
     },
     "output_type": "display_data"
    },
    {
     "data": {
      "image/png": "[encoded data removed]",
      "text/plain": [
       "<Figure size 432x288 with 1 Axes>"
      ]
     },
     "metadata": {
      "needs_background": "light"
     },
     "output_type": "display_data"
    }
   ],
   "source": [
    "# Implementation of gradient descent in linear regression\n",
    "import numpy as np\n",
    "import matplotlib.pyplot as plt\n",
    " \n",
    " \n",
    "class Linear_Regression:\n",
    "    def __init__(self, X, Y):\n",
    "        self.X = X\n",
    "        self.Y = Y\n",
    "        self.b = [0, 0]\n",
    " \n",
    "    def update_coeffs(self, learning_rate):\n",
    "        Y_pred = self.predict()\n",
    "        Y = self.Y\n",
    "        m = len(Y)\n",
    "        self.b[0] = self.b[0] - (learning_rate * ((1/m) *\n",
    "                                                  np.sum(Y_pred - Y)))\n",
    " \n",
    "        self.b[1] = self.b[1] - (learning_rate * ((1/m) *\n",
    "                                                  np.sum((Y_pred - Y) * self.X)))\n",
    " \n",
    "    def predict(self, X=[]):\n",
    "        Y_pred = np.array([])\n",
    "        if not X:\n",
    "            X = self.X\n",
    "        b = self.b\n",
    "        for x in X:\n",
    "            Y_pred = np.append(Y_pred, b[0] + (b[1] * x))\n",
    " \n",
    "        return Y_pred\n",
    " \n",
    "    def get_current_accuracy(self, Y_pred):\n",
    "        p, e = Y_pred, self.Y\n",
    "        n = len(Y_pred)\n",
    "        return 1-sum(\n",
    "            [\n",
    "                abs(p[i]-e[i])/e[i]\n",
    "                for i in range(n)\n",
    "                if e[i] != 0]\n",
    "        )/n\n",
    "    # def predict(self, b, yi):\n",
    " \n",
    "    def compute_cost(self, Y_pred):\n",
    "        m = len(self.Y)\n",
    "        J = (1 / 2*m) * (np.sum(Y_pred - self.Y)**2)\n",
    "        return J\n",
    " \n",
    "    def plot_best_fit(self, Y_pred, fig):\n",
    "        f = plt.figure(fig)\n",
    "        plt.scatter(self.X, self.Y, color='b')\n",
    "        plt.plot(self.X, Y_pred, color='g')\n",
    "        f.show()\n",
    " \n",
    " \n",
    "def main():\n",
    "    X = np.array([i for i in range(11)])\n",
    "    Y = np.array([2*i for i in range(11)])\n",
    " \n",
    "    regressor = Linear_Regression(X, Y)\n",
    " \n",
    "    iterations = 0\n",
    "    steps = 100\n",
    "    learning_rate = 0.01\n",
    "    costs = []\n",
    " \n",
    "    # original best-fit line\n",
    "    Y_pred = regressor.predict()\n",
    "    regressor.plot_best_fit(Y_pred, 'Initial Best Fit Line')\n",
    " \n",
    "    while 1:\n",
    "        Y_pred = regressor.predict()\n",
    "        cost = regressor.compute_cost(Y_pred)\n",
    "        costs.append(cost)\n",
    "        regressor.update_coeffs(learning_rate)\n",
    " \n",
    "        iterations += 1\n",
    "        if iterations % steps == 0:\n",
    "            print(iterations, \"epochs elapsed\")\n",
    "            print(\"Current accuracy is :\",\n",
    "                  regressor.get_current_accuracy(Y_pred))\n",
    " \n",
    "            stop = input(\"Do you want to stop (y/*)??\")\n",
    "            if stop == \"y\":\n",
    "                break\n",
    " \n",
    "    # final best-fit line\n",
    "    regressor.plot_best_fit(Y_pred, 'Final Best Fit Line')\n",
    " \n",
    "    # plot to verify cost function decreases\n",
    "    h = plt.figure('Verification')\n",
    "    plt.plot(range(iterations), costs, color='b')\n",
    "    h.show()\n",
    " \n",
    "    # if user wants to predict using the regressor:\n",
    "    regressor.predict([i for i in range(10)])\n",
    " \n",
    " \n",
    "if __name__ == '__main__':\n",
    "    main()"
   ]
  },
  {
   "cell_type": "code",
   "execution_count": null,
   "id": "7b797675",
   "metadata": {},
   "outputs": [],
   "source": []
  }
 ],
 "metadata": {
  "kernelspec": {
   "display_name": "Python 3 (ipykernel)",
   "language": "python",
   "name": "python3"
  },
  "language_info": {
   "codemirror_mode": {
    "name": "ipython",
    "version": 3
   },
   "file_extension": ".py",
   "mimetype": "text/x-python",
   "name": "python",
   "nbconvert_exporter": "python",
   "pygments_lexer": "ipython3",
   "version": "3.9.12"
  }
 },
 "nbformat": 4,
 "nbformat_minor": 5
}
